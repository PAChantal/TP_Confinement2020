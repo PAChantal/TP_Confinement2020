{
 "cells": [
  {
   "cell_type": "markdown",
   "metadata": {},
   "source": [
    "## <h1><center>  TP1 : Décomposition en série de Fourier et Transformée de Fourier </center></h1>\n",
    "\n",
    "\n",
    "<h2><center>ESIR 1: Traitement du signal</center></h2>\n",
    "\n",
    "\n",
    "<h2><center> Avril 2020 </center></h2>\n",
    "\n",
    "## 1 Objectif\n",
    "\n",
    "Le but de ce TP est de :\n",
    "- faire le lien entre l'amplitude et la fréquence d'un signal péeriodique et son développement en série de\n",
    "Fourier\n",
    "- prendre conscience de l'approximation apportée par la troncature d'une séquence périodique\n",
    "- comprendre la notion de contenu spectral d'un signal continu par le biais de la transformée de Fourier.\n",
    "\n",
    "## 2 Première partie : décomposition en série de Fourier\n",
    "\n",
    "### 2.1 Rappel\n",
    "\n",
    "Soit $v(t)$ un signal périodique de période T et de fréquence $f_0 = \\frac{1}{T}$ satisfaisant les conditions suivantes :\n",
    "- v(t) est une fonction finie.\n",
    "- Les points de discontinuité, les maxima et les minima sont en nombre limité.\n",
    "Ce signal $v(t)$ est décomposable en série de Fourier comme une somme de termes sinusoïdaux dits harmoniques\n",
    "du signal :\n",
    "\n",
    "$\n",
    "\\begin{align*}\n",
    "(1) \\quad \\quad \\quad v(t)=&C_0+\\sum_{n\\geq 1} cos(2\\pi n f_0 t+ \\phi_n) \\\\\n",
    "(2) \\quad \\quad \\quad v(t)=&A_0+\\sum_{n \\geq 1}(A_n cos(2 \\pi f_0 t)+B_n sin(2 \\pi f_0 t))\\\\ \n",
    "\\end{align*}\n",
    "$\n",
    "\n",
    "La représentation des $C_n$ en fonction des multiples de la fréquence fondamentale $f_0$ (les harmoniques) de $v(t)$\n",
    "constitue la spectre du signal. Le coéfficient $C_0$ représente la composante continue du signal (composante à\n",
    "la fréquence nulle). L'équation précédente montre que le spectre du signal est une superposition pondérée de\n",
    "signaux trigonométriques à des fréquences multiples de la fréquence fondamentale, $f_0$, du signal. L'ensemble\n",
    "des coéfficients de la série de Fourier du signal étudié $v(t)$ sont donnés par :\n",
    "\n",
    "$\n",
    "\\begin{align*}\n",
    "(3.1) \\quad \\quad \\quad A_0=&\\frac{1}{T} \\int_0^T v(t)dt\\\\ \n",
    "(3.2) \\quad \\quad \\quad A_n=&\\frac{2}{T} \\int_0^T v(t) cos(\\frac{2\\pi n t }{T})dt\\\\\n",
    "(4) \\quad \\quad \\quad B_n=&\\frac{2}{T} \\int_0^T v(t) sin(\\frac{2\\pi n t }{T})dt\\\\\n",
    "\\end{align*}\n",
    "$\n",
    "\n",
    "L'intérêt de la décomposition en série de Fourier réside dans sa capacité à révéler les differentes composantes\n",
    "fréquentielles comprises dans un signal périodique donné. Si la représentation du signal dans le plan temporel\n",
    "(amplitude du signal vs le temps) aide à décrire l'évolution temporelle du signal, la représentation\n",
    "fréquentielle permet, quant à elle, de montrer l'amplitude de chaque composante fréquentielle, $C_n$, à la fréquence $f_n = n f_0$. Déterminer le spectre du signal nécessite de calculer les amplitudes $C_n$ pour chaque\n",
    "fréquence fn. En effet, d'après les équations $(1)$ et $(2) $on peut écrire :\n",
    "\n",
    "$\n",
    "\\begin{align*}\n",
    "(5) \\quad \\quad \\quad  \\sum_{n \\geq 1} C_n cos(2\\pi n f_0 t +\\phi_n)=&\\sum_{n \\geq 1} C_n (cos(2\\pi f_0 t)cos(\\phi_n)-sin(2 \\pi n f_0 t) sin(\\phi_n))\\\\ \n",
    "=&\\sum_{n \\geq 1} (A_n cos(2\\pi n f_0 t)+B_n sin(2 \\pi n f_0 t))\\\\\n",
    "\\end{align*}\n",
    "$\n",
    "\n",
    "Alors:\n",
    "\n",
    "\n",
    "$\n",
    "\\begin{align*}\n",
    "(6) \\quad \\quad \\quad  A_n=&C_n cos(\\phi_n)\\\\ \n",
    "B_n=&-C_n sin(\\phi_n)\\\\ \n",
    "C_n=& \\sqrt{A_n^2+B_n^2}\\\\ \n",
    "\\phi_n=& - arctan(\\frac{B_n}{A_n})\n",
    "\\end{align*}\n",
    "$\n",
    "\n",
    "Avec le calcul de l'amplitude $C_n$ et de la phase $\\phi_n$ de chaque composante fréquentielle, en utilisant les\n",
    "coéffcients de la série de Fourier, on est en mesure d'analyser le spectre du signal périodique considéré et de\n",
    "le tracer.\n",
    "\n",
    "#### 2.1.1 Cas particuliers\n",
    "- Cas d'un signal pair : si la courbe représentative du signal admet un centre de symétrie sur l'axe\n",
    "de temps, on peut choisir ce point comme origine des temps. Dans ce cas de figure, le signal considéré\n",
    "vérifie la propriété $v(t) = v(-t)$ et on dit que $v(t)$ est une fonction paire.\n",
    "Donc d'après l'équation $(2)$ et le fait que le signal $v(t)$ est pair, on a :\n",
    "\n",
    "$\n",
    "\\begin{align*}\n",
    "(7) \\quad \\quad \\quad  &A_0+\\sum_{n\\geq 1} (A_n cos(2pi n f_0 t)+B_n sin(2\\pi n f_0 t))\\\\ \n",
    "=& A_0+\\sum_{n\\geq 1}(A_n cos(2\\pi n f_0 t) -B_n sin(2\\pi f_0 t))\\\\\n",
    "=& A_0+\\sum_{n\\geq 1}(A_n cos(2\\pi n f_0 t)-\\sum_{n\\geq 1}B_n sin(2\\pi f_0 t)\\\\\n",
    "\\Longrightarrow  &\\sum_{n\\geq 1} B_n sin(2 \\pi f_0 t)=-\\sum_{n\\geq 1}B_n sin(2\\pi n f_0 t)\\\\\n",
    "\\Longrightarrow & B_n=0\\\\\n",
    "\\end{align*}\n",
    "$\n",
    "\n",
    "Ainsi, __si le signal est une fonction paire, tous les coéfficients $B_n$ sont nuls__.\n",
    "\n",
    "- Cas d'un signal impair : si la courbe représentative du signal admet l'axe des ordonnées comme\n",
    "axe des symétrie, le signal considéré vérifie la propriété $-v(t) = v(-t)$. Dans ce cas on dit que $v(t)$ est une fonction impaire. En utilisant le même raisonnement que dans le cas précédent, on trouve :\n",
    "\n",
    "$\n",
    "\\begin{align*}\n",
    "(8) \\quad \\quad \\quad  -\\sum{n \\geq 1}A_n cos(2\\pi n f_0 t))=&\\sum{n \\geq 1}A_n cos(-2\\pi n f_0 t)\\\\ \n",
    "-\\sum{n \\geq 1}A_n cos(2\\pi n f_0 t))=&\\sum{n \\geq 1}A_n cos(2\\pi n f_0 t)\\\\\n",
    "\\Longrightarrow A_n= &0\\\\\n",
    "\\end{align*}\n",
    "$\n",
    "\n",
    "Ainsi, __si le signal est une fonction impaire, tous les coéfficients $A_n$ sont nuls__.\n",
    "\n",
    "__Exemple 1__: _Soit $v(t)$ un signal dit signal créneau périodique de période $T$ tel que_ :\n",
    "$\n",
    "v(t)=\n",
    "\\begin{cases} E \\quad \\quad \\quad \\frac{-T}{4} \\leq t \\leq  \\frac{-T}{4} \\\\\n",
    "0 \\quad \\quad \\quad \\frac{-T}{2} \\leq t \\leq  \\frac{-T}{4} &  \\frac{T}{4} \\leq t \\leq  \\frac{T}{2}\\\\\n",
    "\\end{cases}\n",
    "$\n"
   ]
  },
  {
   "cell_type": "code",
   "execution_count": 31,
   "metadata": {},
   "outputs": [
    {
     "data": {
      "text/html": [
       "<img src=\"SignalCreneau.png\">"
      ],
      "text/plain": [
       "<IPython.core.display.HTML object>"
      ]
     },
     "metadata": {},
     "output_type": "display_data"
    }
   ],
   "source": [
    "%%html\n",
    "<img src=\"SignalCreneau.png\">\n"
   ]
  },
  {
   "attachments": {},
   "cell_type": "markdown",
   "metadata": {},
   "source": [
    "Le signal $v(t)$ est symétrique par rapport à l'origine et vérifie $v(t) = v(-t)$. Ainsi, $v(t)$ est une fonction paire.\n",
    "Dans ce cas, $B_n = 0$ et le signal $v(t)$ se décompose en série de cosinus uniquement. Calculons maintenant\n",
    "les coefficients de la série de Fourier, $A_0$ et $A_n$.\n",
    "\n",
    "$\n",
    "\\begin{align*} \n",
    "A_n =&\\frac{2}{T} \\int_0^T v(t) cos(\\frac{2\\pi n t}{T})dt=\\frac{2}{T}(\\int_0^{\\frac{T}{4}} Ecos(\\frac{2 \\pi n t}{T})dt+\\int_{\\frac{3T}{4}}^T Ecos(\\frac{2 \\pi n t}{T})dt\\\\ \n",
    "=&\\frac{E}{\\pi n}(sin(\\frac{\\pi n}{2})-sin(\\frac{3\\pi n }{2}))\\\\\n",
    "\\end{align*}\n",
    "$\n",
    "\n",
    "Alors:\n",
    "\n",
    "$\n",
    "\\begin{align*} \n",
    "n=&1 \\Longrightarrow A_1=\\frac{2E}{\\pi}\\\\\n",
    "n=&2 \\Longrightarrow A_2=0\\\\\n",
    "n=&3 \\Longrightarrow A_3=\\frac{2E}{3\\pi}\\\\\n",
    "n=&...\\\\\n",
    "\\end{align*}\n",
    "$\n",
    "\n",
    "_Donc pour $n$ impair, soit $n=2k+1$, on aura alors $A_{2k+1}=\\frac{2(-1)^kE}{2k+1} \\forall k \\in \\{1,2,.. \\}$. D'où la décomposition de $v(t)$:_\n",
    "\n",
    "$v(t)=\\frac{E}{2}+\\frac{2E}{\\pi}\\sum_{k=0}^{+\\infty}\\frac{2(-1)^k E}{2k+1} cos(2\\pi(2k+1)f_0 t)$\n",
    "\n",
    "### 2.2 Travail demandé\n",
    "\n",
    "#### 2.2.1 Préparation\n",
    "\n",
    "Soit $s(t)$ un signal carré périodique de période $T$ tel que : $s(t)=\n",
    "\\begin{cases}\n",
    "+E_m \\quad \\quad \\quad 0 \\leq t \\leq \\frac{T}{2}\\\\\n",
    "-E_m \\quad \\quad \\quad \\frac{T}{2} \\leq t \\leq T\n",
    "\\end{cases}\n",
    "$\n",
    "- a. Calculer les coéffcients de la série de Fourier $A_0$, $A_n$ et $B_n$ de $s(t)$.\n",
    "- b. Calculer l'amplitude $C_n$ et la phase $\\phi_n$ du $n^{ième}$ harmonique. (Bien faire apparître les calculs sur le compte rendu svp)\n",
    "\n",
    "### 2.2.2 Manipulation\n",
    "\n",
    "- a. En utilisant la commande __square__ de _OCTAVE_ écrire un code _OCTAVE_ qui génère 20 ms d'un signal\n",
    "    carré $s(t)$ avec $Em = 2$ et $f_0 = 50 Hz$ pour une fréquence d'échantillonnage $f_s = 1 kHz$. Pour plus de\n",
    "    détails sur la commande square (_i.e_: paramètres d'entrée), vous pouvez consulter sa fiche descriptive\n",
    "    sous _OCTAVE_ en utilisant la commande __help square__ dans la fenêtre de commande de _OCTAVE_. On fera bien attention à définir correctement l'amplitude et la fréquence de ce signal.\n",
    "\n"
   ]
  },
  {
   "cell_type": "code",
   "execution_count": null,
   "metadata": {},
   "outputs": [
    {
     "name": "stdout",
     "output_type": "stream",
     "text": [
      "'square' is a function from the file C:\\Octave\\OCTAVE~1.1\\share\\octave\\packages\\signal-1.4.0\\square.m\n",
      "\n",
      " -- Function File: S = square (T, DUTY)\n",
      " -- Function File: S = square (T)\n",
      "     Generate a square wave of period 2 pi with limits +1/-1.\n",
      "\n",
      "     If DUTY is specified, it is the percentage of time the square wave\n",
      "     is \"on\".  The square wave is +1 for that portion of the time.\n",
      "\n",
      "                       on time * 100\n",
      "        duty cycle = ------------------\n",
      "                     on time + off time\n",
      "\n",
      "     See also: cos, sawtooth, sin, tripuls.\n",
      "\n",
      "Additional help for built-in functions and operators is\n",
      "available in the online version of the manual.  Use the command\n",
      "'doc <topic>' to search the manual index.\n",
      "\n",
      "Help and information about Octave is also available on the WWW\n",
      "at https://www.octave.org and via the help@octave.org\n",
      "mailing list.\n",
      "** Warning: Cannot interrupt Octave on Windows\n"
     ]
    }
   ],
   "source": [
    "pkg load signal % Installation du package nécessaire à l'utilisation de la fonction square\n",
    "help square\n",
    "Em=...\n",
    "f0=...\n",
    "s=..."
   ]
  },
  {
   "cell_type": "markdown",
   "metadata": {},
   "source": [
    "- b. Tracer le signal généré en utilisant la commande __plot__ de _OCTAVE_ .  On prendra bien soin de donner à la fois un axe des abscisses préalablement définis en fonction de la fréquence d'échnatillonnage ainsi qu'un axe d'ordonnées en argument de la fonction __plot__. "
   ]
  },
  {
   "cell_type": "code",
   "execution_count": null,
   "metadata": {},
   "outputs": [
    {
     "name": "stdout",
     "output_type": "stream",
     "text": [
      "** Warning: Cannot interrupt Octave on Windows\n",
      "parse error:\n",
      "\n",
      "  syntax error\n",
      "\n",
      ">>> disp(\"887d3b13c0dc4413acc69163264b16ab\");\n",
      "                                            ^\n",
      "\n",
      "\n"
     ]
    }
   ],
   "source": [
    "figure(1)\n",
    "...\n",
    "fe=1000; %Fréquence d'échantillonnage\n",
    "plot(...,...)"
   ]
  },
  {
   "cell_type": "markdown",
   "metadata": {},
   "source": [
    "- c. En utilisant les coéfficients de Fourier calculés dans la sous-section 2.2.1, écrire un script _OCTAVE_\n",
    "    qui permet de tracer la somme des $N = 7$ premiers harmoniques. Justifier le résultat. Pour affcher\n",
    "    deux courbes sur la même figure, il faut utiliser la commande __hold on__. Pour plus de détail sur cette\n",
    "    commande, tapez __help hold on__ dans la fenêtre de commande."
   ]
  },
  {
   "cell_type": "code",
   "execution_count": null,
   "metadata": {},
   "outputs": [
    {
     "name": "stdout",
     "output_type": "stream",
     "text": [
      "** Warning: Cannot interrupt Octave on Windows\n",
      "parse error:\n",
      "\n",
      "  syntax error\n",
      "\n",
      ">>> disp(\"eaadc079b0c24aec862b09388bc86ec3\");\n",
      "                                            ^\n",
      "\n",
      "\n"
     ]
    }
   ],
   "source": [
    "N=7;\n",
    "... % Implémentez les harmoniques et calculez-en la somme\n",
    "\n",
    "figure(2)\n",
    "hold on\n",
    "plot(...,...)%Retracez d'abord le signal carré original\n",
    "plot(...,...)%Retracez ensuite le signal obtenu par la somme des harmoniques\n",
    "plot(...,...)%Tracez autant d'harmoniques qu'il vous semble nécessaire\n",
    "plot(...,...)"
   ]
  },
  {
   "cell_type": "markdown",
   "metadata": {},
   "source": [
    "- d. Etudier l'influence du nombre d'harmoniques sur la série de Fourier du signal pour (N = 1, 2, 3, ... , 8).\n",
    "Commenter et justifier les résultats."
   ]
  },
  {
   "cell_type": "code",
   "execution_count": null,
   "metadata": {},
   "outputs": [
    {
     "name": "stdout",
     "output_type": "stream",
     "text": [
      "** Warning: Cannot interrupt Octave on Windows\n"
     ]
    }
   ],
   "source": [
    "N=...%refaire la question précdante avec différentes valeurs de N. N'oubliez pas de mettre les résultats dans le compte-rendu.\n",
    "..."
   ]
  },
  {
   "cell_type": "markdown",
   "metadata": {},
   "source": [
    "- e. Tracer le spectre en amplitude du signal $s(t)$ jusqu'à l'harmonique d'ordre 7. Pour ce faire utiliser la\n",
    "    commande __stem__ de _OCTAVE_."
   ]
  },
  {
   "cell_type": "code",
   "execution_count": null,
   "metadata": {},
   "outputs": [
    {
     "name": "stdout",
     "output_type": "stream",
     "text": [
      "** Warning: Cannot interrupt Octave on Windows\n",
      "parse error:\n",
      "\n",
      "  syntax error\n",
      "\n",
      ">>> disp(\"34a3ae65729b4d03b42ea3e741cfb3a1\");\n",
      "                                            ^\n",
      "\n",
      "\n"
     ]
    }
   ],
   "source": [
    "figure(4)\n",
    "stem([1:1,N],...) % Tracez le spetre en amplitude\n",
    "legend(...)\n"
   ]
  },
  {
   "cell_type": "markdown",
   "metadata": {},
   "source": [
    "## 3 Deuxième partie : Transformée de Fourier\n",
    "\n",
    "La Transformée de Fourier (TF) d'un signal temporel $x(t)$ est définie par :\n",
    "\n",
    "$(8) \\quad \\quad \\quad X(f)=\\int_{-\\infty}^{+\\infty} x(t) e^{-2 i \\pi f t} dt, f \\in \\mathbb{R}$\n",
    "\n",
    "où $X(f)$ représente le spectre (contenu fréquentiel) du signal $x(t)$. La TF est généralement applicable aux\n",
    "signaux continus apériodiques, et elle produit un spectre apériodique. Le calcul de la TF en pratique (sur\n",
    "ordinateur par exemple) est impossible étant donné la nécessité de disposer d'une infinité de points temporels\n",
    "pour calculer l'intégrale dans l'équation $(8)$. Une solution consiste à discrétiser le signal $x(t)$ puis à calculer son spectre en utilisant $N$ échantillons temporels de ce dernier. Dans ce contexte on définit la Transformée de Fourier Discrète (TFD) par :\n",
    "\n",
    "$(9)\\quad \\quad \\quad X[m]=\\sum_{n=0}^{N-1}x[n]e^{-\\frac{2i\\pi n m}{M}}, m \\in \\mathbb{N}$\n",
    "\n",
    "où $x[n]$ est le $n^{ème}, n\\in \\{0,1,...,N-1\\}$, échantillon de la suite discrète $\\{x[n]\\}$ de taille $N$ du signal\n",
    "continu $x(t)$, de fréquence d'échantillonnage $f_s = \\frac{1}{T_s}$. De plus $X[m]_{m\\in \\{1,..,M-1\\}}$ représente la composante fréquentielle à la fréquence $\\frac{m f_s}{M}$. Autrement dit, l'espacement entre deux points contigus est $\\Delta f = \\frac{fs}{M}$.\n",
    "Bien que la TFD s'applique aux signaux discrets périodiques et produit un spectre discret, elle est la seule\n",
    "transformée applicable pour des signaux discrets apériodiques. La TFD est trés simple à calculer à partir\n",
    "de séries mathématiques limitées et ce calcul s'implémente facilement sur calculateur ou circuit spécialisé\n",
    "(DSP) avec un algorithme de FFT (Fast Fourier Transform) permettant d'accélérer le temps de calcul.\n",
    "\n",
    "__Comment interpréter les résultats de la TFD/FFT__ : D'aprés l'équation $(9)$, la première composante\n",
    "fréquentielle dans la suite $X[m]$, notée $X[0]$ correspond à la composante continue du signal (_i.e_: pour $f = 0$).\n",
    "Ainsi, les composantes $X[1]$ à $X[\\frac{M}{2}]$ correspondent aux composantes de fréquences positives et celles de\n",
    "$X[\\frac{M}{2}+ 1]$ à $X[M-1]$ représentent les composantes de fréquences négatives.\n",
    "\n",
    "\n",
    "### 3.1 Travail demandé\n",
    "\n",
    "- a. Calculer la TF du signal $x(t) = cos(2 \\pi f_0 t)$ où $f_0 = 10 Hz$. On fera clairement apparaître les calculs dans le compte-rendu.\n",
    "- b. Générer sous _OCTAVE_ un signal $x(t)$ sur un intervalle de temps $t \\in [0 \\; 2] sec$ et avec une fréquence d'échantillonnage $f_s=32f_0$"
   ]
  },
  {
   "cell_type": "code",
   "execution_count": null,
   "metadata": {},
   "outputs": [
    {
     "name": "stdout",
     "output_type": "stream",
     "text": [
      "** Warning: Cannot interrupt Octave on Windows\n"
     ]
    }
   ],
   "source": [
    "clear all  % On supprime les variables précédentes car cette partie est indépendante\n",
    "\n",
    "... % Définissez l'axe temporel et les fréquecences e jeu.\n",
    "x=...%Génerer le signal x\n",
    "\n"
   ]
  },
  {
   "cell_type": "markdown",
   "metadata": {},
   "source": [
    "- c. Calculer la TFD de la suite $x(t)$ sur $N = 256$ points fréquentiels"
   ]
  },
  {
   "cell_type": "code",
   "execution_count": null,
   "metadata": {},
   "outputs": [
    {
     "name": "stdout",
     "output_type": "stream",
     "text": [
      "** Warning: Cannot interrupt Octave on Windows\n"
     ]
    }
   ],
   "source": [
    "..."
   ]
  },
  {
   "cell_type": "markdown",
   "metadata": {},
   "source": [
    "- d. Tracer les amplitudes de composantes spectrales $X[m]$."
   ]
  },
  {
   "cell_type": "code",
   "execution_count": null,
   "metadata": {},
   "outputs": [
    {
     "name": "stdout",
     "output_type": "stream",
     "text": [
      "** Warning: Cannot interrupt Octave on Windows\n"
     ]
    }
   ],
   "source": [
    "figure(...)\n",
    "stem(...)"
   ]
  },
  {
   "cell_type": "markdown",
   "metadata": {},
   "source": [
    "- e. En utilisant la fonction __fft__ de _OCATVE_, calculer la TF du signal discret $x[t]$. Tracer les amplitudes\n",
    "et comparer les avec les résultats obtenus par la fonction TFD."
   ]
  },
  {
   "cell_type": "code",
   "execution_count": null,
   "metadata": {},
   "outputs": [
    {
     "name": "stdout",
     "output_type": "stream",
     "text": [
      "** Warning: Cannot interrupt Octave on Windows\n"
     ]
    }
   ],
   "source": [
    "..."
   ]
  },
  {
   "cell_type": "markdown",
   "metadata": {},
   "source": [
    "- f. Les calculs obtenus pour les deux méthodes donnent des fréquences centrée auour de $0$. En traitement de signal on préfére généralement faire un décalage (shift) pour centrer les fréquences sur la demi-fréquence d'échnatillonnage. En utilisant la fonction __ffttshift__ de _OCTAVE_, retracer les amplitudes des composantes spectrales\n",
    "    $X[m]$ calculées par votre TFD et par __fft__. Commenter les résultats obtenus dans le compte-rendu."
   ]
  },
  {
   "cell_type": "code",
   "execution_count": null,
   "metadata": {},
   "outputs": [],
   "source": [
    "..."
   ]
  }
 ],
 "metadata": {
  "kernelspec": {
   "display_name": "Octave",
   "language": "octave",
   "name": "octave"
  },
  "language_info": {
   "file_extension": ".m",
   "help_links": [
    {
     "text": "GNU Octave",
     "url": "https://www.gnu.org/software/octave/support.html"
    },
    {
     "text": "Octave Kernel",
     "url": "https://github.com/Calysto/octave_kernel"
    },
    {
     "text": "MetaKernel Magics",
     "url": "https://github.com/calysto/metakernel/blob/master/metakernel/magics/README.md"
    }
   ],
   "mimetype": "text/x-octave",
   "name": "octave",
   "version": "4.4.1"
  }
 },
 "nbformat": 4,
 "nbformat_minor": 2
}
