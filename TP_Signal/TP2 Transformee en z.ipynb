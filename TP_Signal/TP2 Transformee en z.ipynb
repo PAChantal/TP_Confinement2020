{
 "cells": [
  {
   "cell_type": "markdown",
   "metadata": {},
   "source": [
    "# <h1><center>  TP2 : Filtrage numérique</center></h1>\n",
    "\n",
    "\n",
    "<h2><center>ESIR 1: Traitement du signal</center></h2>\n",
    "\n",
    "\n",
    "<h2><center> Mai 2020 </center></h2>\n",
    "\n",
    "Ce TP est à faire en solo. Un compte-rendu est à écrire et à soumettre sur Moodle avant le lundi 1er Juin au soir avant 23h59. Il est attendu un compte-rendu au format PDF retraçant les raisonnements et les observations du TP et appuyé par des figures et des équations ainsi qu'un code source, par exemple cette même page exportée au format HTML. Posez vos questions à <pierre-antoine.chantal@univ-rennes1.fr>\n",
    "\n",
    "Ce TP  traite du filtrage numérique  et comprend des calculs préparatoires à inclure dans le compte-rendu.\n",
    "\n",
    "\n",
    "Soit $H(z)$ la fonction de transfert d'un filtre numérique :\n",
    "\n",
    "$\n",
    "\\begin{align*}\n",
    "(1) \\quad \\quad \\quad H(z)=\\frac{1}{1-\\alpha z^{-1}}\n",
    "\\end{align*}\n",
    "$\n",
    "\n",
    "où $\\alpha$ prend les valeurs suivantes: $\\alpha=0.9, \\alpha=0.1, \\alpha=-0.9, \\alpha=-0.1$\n",
    "\n",
    "#  I Préparation\n",
    "\n",
    "Déterminez pour chaque valeur de $\\alpha$ (équation (1))\n",
    "\n",
    "- (i) le gain en fréquence du filtre. On donnera les expressions mathématiques et valeurs numériques pour $\\frac{f}{F_e}=0, \\frac{f}{F_e}=\\frac{1}{4}$ et $\\frac{f}{F_e}=\\frac{1}{2}$.\n",
    "- (ii) la réponse impulsionnelle\n",
    "- (iii) la réponse indicielle\n",
    "\n",
    "Donnez les limites quand $n \\rightarrow \\infty$ de chacune des réponses obtenues en questions (i) et (ii).\n",
    "Discutez selon les  valeurs de $\\alpha$ du type du filtre (passe-bas, passe-haut, passe-bande, coupe-bande...).\n",
    "\n",
    "## Aide-mémoire :\n",
    "\n",
    "On pourra écrire $z=e^{2i\\pi \\frac{f}{F_e}}$ où $f$ et $F_e$ désignent respectivement la fréquence et la fréquence d'échantillonnage.\n",
    "\n",
    "\n",
    "Le gain peut se calculer et se représenter dans sa forme logarithmique par la formule:\n",
    "\n",
    "$\n",
    "\\begin{align*}\n",
    "(2) \\quad \\quad \\quad G(f)=10log(|H(f)|)\n",
    "\\end{align*}\n",
    "$\n",
    "\n",
    "La réponse impulsionnelle correpond à la réponse temporelle à un signal Dirac centré à l'origine $n=0$. La Transformée en $z$ de ce Dirac $\\delta(n)$ est donnée par $TZ[\\delta(n)]=1$.\n",
    "\n",
    "La réponse indicielle correspond à la réponse temporelle à un signal échelon unitaire démarrant en $n=0$. A noter que le signal à la sortie du filtre est égal au produit de convolution de la réponse impulsionnelle du filtre par le signal présent à son entrée.\n",
    "La transformée en $z$ monolatérale $X(z)$ d'un signal temporel causal $x(n)$ s'écrit:\n",
    "\n",
    "$\n",
    "\\begin{align*}\n",
    "(3) \\quad \\quad \\quad X(z)=TZ(x(n))=\\sum_{n=0}^{+\\infty} x(n)z^{-n}\n",
    "\\end{align*}\n",
    "$\n",
    "\n",
    "__Pensez à bien faire apparaître vos calculs sur le compte-rendu.__\n",
    "\n",
    "# II Manipulation\n",
    "\n",
    "## II-a) Vérification des calculs théoriques\n",
    "\n",
    "Vérifiez les résultats obtenus dans la partie préparation à l'aide d'__OCTAVE__. Pour cela, vous devez tracer les différentes réponses et courbes de gain selon les valeurs de $\\alpha$.\n",
    "\n",
    "Pour afficher la courbe de gain on pourra utiliser la fonction _freqz_. Comme vous pouvez le voir dans les détails donnés par _help_, cette fonction prend en entrée les coefficients de polynôme du numérateur et du dénominateur de la transformée en $z$. Elle rend en sortie le graphe de la courbe de gain et de la phase en fonction de la fréquence normalisée.\n",
    "Il serait intéressant de tracer la courbe de gain que vous avez calculée pour la comparer."
   ]
  },
  {
   "cell_type": "code",
   "execution_count": 86,
   "metadata": {},
   "outputs": [
    {
     "name": "stdout",
     "output_type": "stream",
     "text": [
      "parse error:\n",
      "\n",
      "  syntax error\n",
      "\n",
      ">>> title('On retrouve bien (ou pas) la courbe donnee par freqz pour alpha=0.9')\n",
      "        ^\n",
      "\n"
     ]
    }
   ],
   "source": [
    "alpha1=0.9;\n",
    "A=[...] %Définir le polynome du dénominateur comme un tableau contenant ses coefficients du plus petit au plus grand\n",
    "B=[...] %Définir le polynome du numérateur comme un tableau contenant ses coefficients du plus petit au plus grand\n",
    "freqz(B,A)  % Tracer du gain et du filtre\n",
    "[h,w]=freqz(B,A) %Récupération de h, l'exprssion du filtre et de w, la frequence normalisee.\n",
    "\n",
    "figure(1)\n",
    "plot(w/pi,10*log(abs(h))) %On trace le gain pour retrouver la même convention qu'avec freqz\n",
    "title('freqz donne le gain sous la forme 10log(|H|) avec une frequence normalisee w/pi en abscisse') \n",
    "\n",
    "figure(2) %On veut tracer le gain calculé en partie prératoire pour le comparer.\n",
    "G1=10*log(... (w)...)  % Ecrire l'expression du filtre en remplacant z ou 2pif/Fe par w.\n",
    "plot(w/pi,G1)\n",
    "title('On retrouve bien (ou pas) la courbe donnee par freqz pour alpha=0.9')"
   ]
  },
  {
   "cell_type": "code",
   "execution_count": null,
   "metadata": {},
   "outputs": [
    {
     "name": "stdout",
     "output_type": "stream",
     "text": [
      "** Warning: Cannot interrupt Octave on Windows\n"
     ]
    }
   ],
   "source": [
    "alpha=0.1;\n",
    "\n",
    "... %Tracé des résultats donnés par freqz\n",
    "\n",
    "\n",
    "... %Tracé des résultats donnés par vos caluls\n"
   ]
  },
  {
   "cell_type": "code",
   "execution_count": null,
   "metadata": {},
   "outputs": [],
   "source": [
    "alpha=-0.1;\n",
    "\n",
    "... %Tracé des résultats donnés par freqz\n",
    "\n",
    "\n",
    "... %Tracé des résultats donnés par vos caluls"
   ]
  },
  {
   "cell_type": "code",
   "execution_count": null,
   "metadata": {},
   "outputs": [],
   "source": [
    "alpha=-0.9;\n",
    "\n",
    "... %Tracé des résultats donnés par freqz\n",
    "\n",
    "\n",
    "... %Tracé des résultats donnés par vos caluls"
   ]
  },
  {
   "cell_type": "markdown",
   "metadata": {},
   "source": [
    "Pour afficher la courbe de la réponse impulsionnelle et de la réponse indicielle, on pourra dans un premier temps simplement afficher les signaux calculés dans le domaine temporel pour les différentes valeurs de $\\alpha$.\n",
    "Pour aller plus loin, on pourra calculer le module de la _fft_ de votre réponse impulsionnelle et la comparer avec la courbe gain du filtre $H(z)$ précédemment obtenue. \n",
    "Obtenez-vous les mêmes courbes ? Cela vous semble-t-il logique ?"
   ]
  },
  {
   "cell_type": "code",
   "execution_count": null,
   "metadata": {},
   "outputs": [],
   "source": [
    "alpha1=0.9;\n",
    "N=50;\n",
    "n=1:1:N;\n",
    "rep_imp=...; %L equation que vous avez trouvé en calcul préparatoire pour la réponse impulsionnelle\n",
    "plot(n,rep_imp)\n",
    "title('reponse temporelle pour alpha =0.9')\n",
    "\n",
    "\n",
    "freq_imp=10*log(...); %Calcul du module de la fft de votre signal en base 10\n",
    "freq_imp=freq_imp(1:N/2); %Suppression des frequences mirroires superieures à Fe/2\n",
    "freq_axe=1:1:N/2; %définisiond e l'axe des abscisses frequentielles\n",
    "figure()\n",
    "plot(freq_axe,freq_imp) \n",
    "tite('Le module de la fft de cette reponse impulsionnelle du filtre en base log semble correspondre au calcul du gain du filtre (ou pas) , ce qui est rasurant (ou pas)')"
   ]
  },
  {
   "cell_type": "code",
   "execution_count": null,
   "metadata": {},
   "outputs": [],
   "source": [
    "alpha2=...\n",
    "..."
   ]
  },
  {
   "cell_type": "code",
   "execution_count": null,
   "metadata": {},
   "outputs": [],
   "source": [
    "alpha3=...\n",
    "..."
   ]
  },
  {
   "cell_type": "code",
   "execution_count": null,
   "metadata": {},
   "outputs": [],
   "source": [
    "alpha4=...\n",
    "..."
   ]
  },
  {
   "cell_type": "markdown",
   "metadata": {},
   "source": [
    "Tracez les courbes de réponse indicielle que vous avez obtenues avec vos calculs et vérifiez vos résultats pour les limites annoncées."
   ]
  },
  {
   "cell_type": "code",
   "execution_count": null,
   "metadata": {},
   "outputs": [],
   "source": [
    "alpha1=0.9;\n",
    "..."
   ]
  },
  {
   "cell_type": "code",
   "execution_count": null,
   "metadata": {},
   "outputs": [],
   "source": [
    "alpha1=0.1;\n",
    "..."
   ]
  },
  {
   "cell_type": "code",
   "execution_count": null,
   "metadata": {},
   "outputs": [],
   "source": [
    "alpha1=-0.1;\n",
    "..."
   ]
  },
  {
   "cell_type": "code",
   "execution_count": null,
   "metadata": {},
   "outputs": [],
   "source": [
    "alpha1=-0.9;\n",
    "..."
   ]
  },
  {
   "cell_type": "code",
   "execution_count": null,
   "metadata": {},
   "outputs": [],
   "source": []
  },
  {
   "cell_type": "markdown",
   "metadata": {},
   "source": [
    "## II-b)  Application à un signal sinusoïdal\n",
    "\n",
    "On place en entrée du filtre un signal sinusoïdal et on observe la sortie correspondante. Dans un premier temps, on construit un signal sinusoïdal de fréquence $f_1 = 0.025 Hz$ et on le filtre avec le filtre de fonction de transfert $H(z)$, pour $\\alpha=0.9$ puis pour $\\alpha =-0.9$. \n",
    "\n",
    "Dans un second temps on choisira un signal sinusoïdal de fréquence $f_2=0.45 Hz$. \n",
    "\n",
    "Représentez les sorties des filtres pour chacune des entrées et conclure sur le type du filtre (passe-bas, ...). Une comparaison des amplitudes du signal d'entrée et du signal de sortie de chaque filtre est attendue.\n",
    "\n",
    "\n",
    "Il est possible que vous obteniez des effets de bords sur la fin du signal, mais n'en tenez pas compte dans votre analyse, le plus important est de comparer les amplitudes des signaux."
   ]
  },
  {
   "cell_type": "code",
   "execution_count": null,
   "metadata": {},
   "outputs": [],
   "source": [
    "t=0:1:100;\n",
    "n=1:1:50;\n",
    "alpha=0.9;\n",
    "rep_imp=...;\n",
    "f1=0.045;\n",
    "e1=...;\n",
    "plot(t,e1)\n",
    "s1=conv(...,...,'same');\n",
    "title('signal d entree')\n",
    "figure\n",
    "plot(t,s1)\n",
    "title('...')"
   ]
  },
  {
   "cell_type": "code",
   "execution_count": null,
   "metadata": {},
   "outputs": [],
   "source": [
    "t=0:1:100;\n",
    "n=1:1:50;\n",
    "alpha=-0.9;\n",
    "rep_imp=...;\n",
    "f1=0.045;\n",
    "e1=...;\n",
    "plot(t,e1)\n",
    "s1=conv(...,...,'same');\n",
    "title('signal d entree')\n",
    "figure\n",
    "plot(t,s1)\n",
    "title('...')"
   ]
  },
  {
   "cell_type": "code",
   "execution_count": null,
   "metadata": {},
   "outputs": [],
   "source": [
    "t=0:1:100;\n",
    "n=1:1:50;\n",
    "alpha=0.9;\n",
    "rep_imp=...;\n",
    "f2=0.45;\n",
    "e2=...;\n",
    "plot(t,e2)\n",
    "s2=conv(...,...,'same');\n",
    "title('signal d entree')\n",
    "figure\n",
    "plot(t,s2)\n",
    "title('...')"
   ]
  },
  {
   "cell_type": "code",
   "execution_count": null,
   "metadata": {},
   "outputs": [],
   "source": [
    "t=0:1:100;\n",
    "n=1:1:50;\n",
    "alpha=-0.9;\n",
    "rep_imp=...;\n",
    "f2=0.45;\n",
    "e2=...;\n",
    "plot(t,e2)\n",
    "s2=conv(...,...,'same');\n",
    "title('signal d entree')\n",
    "figure\n",
    "plot(t,s2)\n",
    "title('...')"
   ]
  },
  {
   "cell_type": "markdown",
   "metadata": {},
   "source": [
    "En espérant que ce format puisse vous convenir et que vous puissiez progresser tranquillement ! N'oubliez pas d'exporter votre page en html ainsi qu'un compte-rendu détaillé en PDF et de les envoyer sur Moodle pour l'évaluation de votre travail. N'hésitez pas à faire remonter les éventuels problèmes, les questions ou des oublis en envoyant un mail à l'adresse suivante : pierre-antoine.chantal@univ-rennes1.fr Pour participer à la création, consultez le chapitre 0.3."
   ]
  }
 ],
 "metadata": {
  "kernelspec": {
   "display_name": "Octave",
   "language": "octave",
   "name": "octave"
  },
  "language_info": {
   "file_extension": ".m",
   "help_links": [
    {
     "text": "GNU Octave",
     "url": "https://www.gnu.org/software/octave/support.html"
    },
    {
     "text": "Octave Kernel",
     "url": "https://github.com/Calysto/octave_kernel"
    },
    {
     "text": "MetaKernel Magics",
     "url": "https://github.com/calysto/metakernel/blob/master/metakernel/magics/README.md"
    }
   ],
   "mimetype": "text/x-octave",
   "name": "octave",
   "version": "4.4.1"
  }
 },
 "nbformat": 4,
 "nbformat_minor": 2
}
