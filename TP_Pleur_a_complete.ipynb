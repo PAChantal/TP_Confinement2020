{
 "cells": [
  {
   "cell_type": "markdown",
   "metadata": {},
   "source": [
    "# TP Caractérisation des pleurs de nouveau-né prématuré\n",
    "\n",
    "## 1. Contexte applicatif\n",
    "\n",
    "\n",
    "Un bébé est dit prématuré s’il est né avant la 35ième semaine de grossesse. La prématurité concerne approximativement 60000 naissances par an en France, soit 7% des naissances. Les nouveau-nés prématurés ont plusieurs fonctions immatures comme le système digestif, le système immunitaire, le cerveau, etc. et entament leur vie en couveuse. Ceci impose une grande surveillance de ces bébés pour suivre l’évolution de leur état de santé, mais aussi de leur maturation, afin de programmer au mieux la sortie de la couveuse et plus tard la sortie de l’hôpital. Cette surveillance repose sur l’acquisition de plusieurs signaux nécessitant un nombre plus ou moins élevé de capteurs.\n",
    "Afin de limiter l’effet invasif de ce monitoring des travaux ont portés sur l’analyse de signaux sans contact comme la vidéo ou l’audio.  \n",
    "Dans ce TP, nous allons nous concentrer sur l’analyse de bandes son contenant des pleurs de nouveau-nés prématurés. Le but de ce TP est alors d’extraire des paramètres permettant de décrire ces pleurs. Nous commencerons par appliquer la méthode sur un cas, puis nous comparerons différentes populations afin d’observer l’intérêt clinique d’une telle approche.\n",
    "\n",
    "## 2. Présentation de la méthode\n",
    "\n",
    "\n",
    "La Figure 1 présente un exemple de son enregistré dans la chambre d’un nouveau-né prématuré.  Ce signal est bruité notamment par les voix des infirmières, le son des appareils, le bruit de fond, etc. Afin de caractériser uniquement les pleurs, il est d’abord nécessaire de les extraire du reste du signal (Segmentation), puis de calculer les paramètres décrivant ces pleurs (Caractérisation).\n",
    "\n"
   ]
  },
  {
   "cell_type": "code",
   "execution_count": 1,
   "metadata": {},
   "outputs": [
    {
     "data": {
      "text/html": [
       "<img src=\"BandeSon.png\",width=200,length=200>\n",
       "Exemple de bande son obtenu dans une chambre de Néonatalogie à l’hôpital Rennes Sud"
      ],
      "text/plain": [
       "<IPython.core.display.HTML object>"
      ]
     },
     "metadata": {},
     "output_type": "display_data"
    }
   ],
   "source": [
    "%%html\n",
    "<img src=\"BandeSon.png\",width=200,length=200>\n",
    "Exemple de bande son obtenu dans une chambre de Néonatalogie à l’hôpital Rennes Sud"
   ]
  },
  {
   "cell_type": "markdown",
   "metadata": {},
   "source": [
    "### a. Segmentation\n",
    "\n",
    "Cette méthode s’appuie sur 2 étapes : \n",
    "1.\tDétection des périodes de signal à forte énergie\n",
    "2.\tClassification des périodes à partir de la fft\n",
    "\n",
    "### b. caractérisation\n",
    "\n",
    "Une fois les pleurs extraits, il est possible de les caractériser. \n",
    "\n",
    "## 3.\tImplémentation de la méthode de segmentation (2H)\n",
    "\n",
    "### a.\tChargement du fichier  ‘crying_beeps.wav’\n",
    "\n",
    "•\tUtiliser la fonction audioread.\n",
    "Pour cela vous aurez besoin de comprendre le fonctionnement de la fonction audioread. Utilisez 'help' pour comprendre comment audioread permet d'extraire un fichier son et sa fréquence d'échantillonnage.\n",
    "•\tAfficher le signal."
   ]
  },
  {
   "cell_type": "code",
   "execution_count": 2,
   "metadata": {},
   "outputs": [
    {
     "name": "stdout",
     "output_type": "stream",
     "text": [
      "'audioread' is a function from the file C:\\Octave\\Octave-4.4.1\\lib\\octave\\4.4.1\\oct\\x86_64-w64-mingw32\\audioread.oct\n",
      "\n",
      " -- [Y, FS] = audioread (FILENAME)\n",
      " -- [Y, FS] = audioread (FILENAME, SAMPLES)\n",
      "\n",
      " -- [Y, FS] = audioread (FILENAME, DATATYPE)\n",
      " -- [Y, FS] = audioread (FILENAME, SAMPLES, DATATYPE)\n",
      "     Read the audio file FILENAME and return the audio data Y and\n",
      "     sampling rate FS.\n",
      "\n",
      "     The audio data is stored as matrix with rows corresponding to audio\n",
      "     frames and columns corresponding to channels.\n",
      "\n",
      "     The optional two-element vector argument SAMPLES specifies starting\n",
      "     and ending frames.\n",
      "\n",
      "     The optional argument DATATYPE specifies the datatype to return.\n",
      "     If it is \"native\", then the type of data depends on how the data is\n",
      "     stored in the audio file.\n",
      "\n",
      "     See also: audiowrite, audioformats, audioinfo.\n",
      "\n",
      "Additional help for built-in functions and operators is\n",
      "available in the online version of the manual.  Use the command\n",
      "'doc <topic>' to search the manual index.\n",
      "\n",
      "Help and information about Octave is also available on the WWW\n",
      "at https://www.octave.org and via the help@octave.org\n",
      "mailing list.\n"
     ]
    }
   ],
   "source": [
    "help audioread"
   ]
  },
  {
   "cell_type": "code",
   "execution_count": 2,
   "metadata": {},
   "outputs": [],
   "source": [
    "....; %Utilisez la fonction audioread comme proposé par le guide help pour lire le fichier son 'crying_beeps.wav'"
   ]
  },
  {
   "cell_type": "markdown",
   "metadata": {},
   "source": [
    "Pour écouter le fichier son correspondant au signal que vous avez, il serait possible avec Matlab de l'écouter directement en utilisant la fonction 'soundsc'. Malheuresement, la plateforme 'Binder' que nous utilisons ne peut pas lire de fichier son. Vous allez donc devoir écrire le fichier son dans un fichier 'wav' avec la commande audiowrite. Utilisez l'aide pour comprendre comme écrire un fichier son avec le nom que vous désirez, en partant du signal que vous désirez à la fréquence que vous désirez. Une fois le fichier wav écrit, dirigez-vous dans la fenêtre internet correspondant à vos dossiers. Cochez le fichier son et un bouton 'download' apparait. Téléchargez le fichier et lisez-le sur votre ordinateur avec n'importe quel logiciel déjà installé par défaut."
   ]
  },
  {
   "cell_type": "code",
   "execution_count": null,
   "metadata": {},
   "outputs": [],
   "source": [
    "audiowrite( ... , ... , ... ) %Ecrire le fichier\n",
    "\n",
    "% Télécharger le fichier dans la fenêtre internet de vos dossiers (cochez puis download) et écouter le fichier"
   ]
  },
  {
   "cell_type": "markdown",
   "metadata": {},
   "source": [
    "Il est ensuite possible d 'afficher le signal avec 'plot'."
   ]
  },
  {
   "cell_type": "code",
   "execution_count": null,
   "metadata": {},
   "outputs": [],
   "source": [
    "soundsc(extrait, FS)  %Lecture du fichier son. A modifier selon le nom de vos variables.\n",
    "\n",
    "% Eviter de lancer des commandes octave lorsque 'soundsc' est en utilisation"
   ]
  },
  {
   "cell_type": "code",
   "execution_count": null,
   "metadata": {},
   "outputs": [],
   "source": [
    "figure(1)\n",
    "plot((1:length(extrait))/FS,extrait) %A modifier selon le nom de vos variables.\n",
    "xlabel(...)\n",
    "title(...)"
   ]
  },
  {
   "cell_type": "markdown",
   "metadata": {},
   "source": [
    "### b.\tSegmentation par l’énergie glissante \n",
    "\n",
    "\n",
    "L’opération de filtrage par convolution (ici lissage) que nous appliquons ici, s’écrit :\n",
    "\n",
    "$\\textbf{E}(m,w)=\\frac{1}{N}\\sum_{n=-\\infty}^{\\infty}(\\textbf{x}[n]\\ast\\textbf{w}[n-m])^2$\n",
    "\n",
    "où w est la fenêtre sur laquelle nous calculons la valeur de l’énergie, ici nous utilisons une fenêtre de type ‘Porte’ de taille N. Ainsi l’énergie de chaque échantillon est obtenue en moyennant l’énergie des N/2 échantillons le précédent et les N/2 échantillons le suivant. On choisit ici N=30. On vous donne le code suivant permettant de réaliser le calcul d'énergie, complétez le avec le nom de la variable correspondant au fichier son que vous avez choisi:"
   ]
  },
  {
   "cell_type": "code",
   "execution_count": null,
   "metadata": {},
   "outputs": [],
   "source": [
    "    % calcul de l'energie\n",
    "    N=...\n",
    "    signal_energie = zeros(length(...),1);\n",
    "   for n=N/2+1:length(...)-N/2-1 %\n",
    "       carre_signal_sur_fenetre = ...(n-N/2:n+N/2).^2;\n",
    "     signal_energie(n) = (1 / N)*sum(carre_signal_sur_fenetre);\n",
    "end\n",
    "% attention les calculs peuvent être longs selon l'état de forme de la machine virtuelle\n",
    "   figure(2) % A vous de représenter le signal d'énergie\n",
    "...\n",
    "...\n",
    "..."
   ]
  },
  {
   "cell_type": "markdown",
   "metadata": {},
   "source": [
    "Le signal d'énergie que vous observez\n",
    "On souhaite maintenant lisser le signal d'énergie pour réduire le bruit et pour en faciliter son traitement. On utilise pour cela un lissage moyen sur une fenêtre de taille 100:"
   ]
  },
  {
   "cell_type": "code",
   "execution_count": null,
   "metadata": {},
   "outputs": [],
   "source": [
    "    win=...;\n",
    "    h=ones(1,win)/win;\n",
    "    signal_energie_lisse=filter(h,1,...);\n",
    "    \n",
    "    figure(...)% Représenter le signal d énergie lissé\n",
    "...\n",
    "...\n",
    "...\n",
    "    \n"
   ]
  },
  {
   "cell_type": "markdown",
   "metadata": {},
   "source": [
    "La différence n'est pas forcément flagrante entre la figure 2 et 3 mais vu de près, le signal lissé est beaoucoup moins mouvementé et sera plus facile à traiter.\n",
    "On souhaite à présent garder uniquement les parties du signal où il y a une forte énergie car cela correspond aux moment où il y a un volume sonore important ce qui peut être un pleur de bébé. Pour cela, nous devons créer un seuil, comparer notre signal au seuil pour en déduire les zones à conserver et celle à supprimer."
   ]
  },
  {
   "cell_type": "code",
   "execution_count": null,
   "metadata": {},
   "outputs": [],
   "source": [
    "seuil=0.0021;  % On propose d'utiliser un seuil choisi arbitrairement.\n",
    "\n",
    "signal_seuille=(signal_energie_lisse>...).*...; % On multiplie le booléen de la condition 'signal > seuil' \n",
    "                                                    %par le signal ORIGINAL\n",
    "                                                    \n",
    "                                                   \n",
    "figure(4)\n",
    "plot((1:length(extrait))/FS,signal_energie_lisse)\n",
    "hold on \n",
    "plot((1:length(extrait))/FS,seuil*ones(length(extrait),1),'color','red')\n",
    "xlabel('Temps (sec)')\n",
    "title('representation du seuil pour enlever les zones vides d energie')\n",
    "\n",
    "figure(5)\n",
    "plot((1:length(extrait))/FS,signal_seuille)\n",
    "xlabel('Temps (sec)')\n",
    "title('Signal obtenu apres le seuil')"
   ]
  },
  {
   "cell_type": "markdown",
   "metadata": {},
   "source": [
    "Ecouter et analyser le résultat. Qu'en pensez-vous ? "
   ]
  },
  {
   "cell_type": "code",
   "execution_count": null,
   "metadata": {},
   "outputs": [],
   "source": [
    "audiowrite( ... , ... , ... );"
   ]
  },
  {
   "cell_type": "markdown",
   "metadata": {},
   "source": [
    "### c. Classification des périodes détectées à l’aide de la FFT\n",
    "Nous avons extrait les périodes de fortes énergies et ainsi éliminé le bruit de fond. Nous souhaitons maintenant garder uniquement celles associées à des pleurs.  Pour cela, nous allons nous intéresser à la représentation de nos segments dans le domaine fréquentiel.  En effet, la représentation fréquentielle d’un pleur n’a pas la même allure que celle d’un évènement indésirable (par exmple un bip).\n",
    "La méthode proposée ici pour différencier ces deux formes de spectre se base sur l’hypothèse que le son indésirable que nous entendons (Figure A) est composé de moins de fréquences (plus parcimonieux) qu’un pleur (Figure B). \n"
   ]
  },
  {
   "cell_type": "code",
   "execution_count": null,
   "metadata": {},
   "outputs": [],
   "source": [
    "%%html\n",
    "<img src=\"Spectre_Son_Indesirable.png\",width=200,length=200>\n",
    "Figure A : Exemple de spectre d un son indesirable\n",
    "%%html\n",
    "<img src=\"Spectre_Pleur.png\",width=200,length=200>\n",
    "Figure B : Exemple du spectre d un pleur\n",
    "\n",
    "\n"
   ]
  },
  {
   "cell_type": "markdown",
   "metadata": {},
   "source": [
    "Pour différencier les deux formes de spectre observées, nous pouvons utiliser le nombre de fois que le signal traverse la valeur moyenne.\n"
   ]
  },
  {
   "cell_type": "markdown",
   "metadata": {},
   "source": [
    "Cependant, effectuer ces calculs sur une machine virtuelle est nettement moins agréable que sur une vraie machine avec Matlab (qui possède gestionnaire de variaibles, affichages de figures indépendants, possibilité d'appeler des fonctions, puissance de calcul d'une vraie machine en TP bien supéreieure à celle d'une machine virtuelle, et absence de super encadrant de TP pour aider les élèves...). Cette partie ne sera donc malheuresement pas implémentée ici. On admettra donc que l'étude du nombre de pasage à la moyenne de la transformée de Fourrier permet de distinguer les bruits de pleurs et les bruits de bip. Nous allons donc passer à la partie suivante.\n",
    "\n",
    "## 4.\tCaractérisation des pleurs et comparaison de groupes - (1H) - Partie indépendante\n",
    "\n",
    "### a.\tExtraction de la durée moyenne des pleurs\n",
    "\n",
    "Une fois les périodes de pleurs détectées, différents paramètres peuvent être calculés (durées des pleurs, fréquence fondamentale…). Ici, nous allons uniquement nous concentrer sur la durée moyenne des pleurs.\n",
    "•\tOn admettra que la durée moyenne des pleurs pour ce bébé est de 0.45 seconde.\n",
    "\n",
    "### b.\tComparaison de groupes\n",
    "\n",
    "Dans cette partie, nous allons observer les valeurs obtenues pour deux populations différentes : des bébés sans pertes auditives et des bébés avec.\n",
    "•\tCharger les données avec load (donnees_bebe.mat) (si besoin regardez l'aide de la focntion 'load')\n",
    "Les données sont présentées sous forme de deux colonnes :\n",
    "-\tLa première colonne indique le type de sujet 1 pour sain, 2 pour ceux souffrant d’une perte de l’audition\n",
    "-\tLa deuxième contient les durées moyennes des pleurs calculées\n",
    "\n",
    "•\tPrésenter les valeurs sous forme de boxplot (utiliser boxplot)\n",
    "•\tCommenter ce résultat quant à la santé du bébé en quesion.\n"
   ]
  },
  {
   "cell_type": "code",
   "execution_count": 27,
   "metadata": {},
   "outputs": [
    {
     "name": "stdout",
     "output_type": "stream",
     "text": [
      "Donnees =\n",
      "\n",
      "  scalar structure containing the fields:\n",
      "\n",
      "    data =\n",
      "\n",
      "      scalar structure containing the fields:\n",
      "\n",
      "        data =\n",
      "\n",
      "          scalar structure containing the fields:\n",
      "\n",
      "            data: 20x2 matrix\n",
      "\n",
      "\n",
      "\n",
      "A =\n",
      "\n",
      "   1.00000   0.65000\n",
      "   1.00000   0.39000\n",
      "   1.00000   0.25100\n",
      "   1.00000   0.27100\n",
      "   1.00000   0.29700\n",
      "   1.00000   0.95200\n",
      "   1.00000   0.44100\n",
      "   1.00000   0.46400\n",
      "   1.00000   0.34000\n",
      "   1.00000   0.54900\n",
      "   2.00000   1.11400\n",
      "   2.00000   0.83500\n",
      "   2.00000   1.30000\n",
      "   2.00000   1.79200\n",
      "   2.00000   0.76700\n",
      "   2.00000   1.02400\n",
      "   2.00000   0.59700\n",
      "   2.00000   0.68200\n",
      "   2.00000   0.76800\n",
      "   2.00000   0.37400\n",
      "\n",
      "L =  20\n"
     ]
    }
   ],
   "source": [
    "Donnees=...\n",
    "A=Donnees.data.data.data  %Octave utilise beaucoup trop de couches pour encapsuler les data\n",
    "L=length(A)"
   ]
  },
  {
   "cell_type": "code",
   "execution_count": 28,
   "metadata": {},
   "outputs": [
    {
     "name": "stdout",
     "output_type": "stream",
     "text": [
      "h2 =\n",
      "\n",
      "   0.37400\n",
      "   0.70325\n",
      "   0.80150\n",
      "   1.09150\n",
      "   1.79200\n",
      "   0.70325\n",
      "   0.99426\n",
      "\n"
     ]
    },
    {
     "data": {
      "image/png": "[encoded data removed]",
      "text/plain": [
       "<IPython.core.display.Image object>"
      ]
     },
     "metadata": {},
     "output_type": "display_data"
    },
    {
     "data": {
      "image/png": "[encoded data removed]",
      "text/plain": [
       "<IPython.core.display.Image object>"
      ]
     },
     "metadata": {},
     "output_type": "display_data"
    }
   ],
   "source": [
    "pkg load statistics % package nécessaire à l'utilisation de la focntion'boxplot' sur octave.\n",
    "\n",
    "bebes_sains = A(1:10,2);\n",
    "bebes_malades = ... ;\n",
    "\n",
    "figure(6)\n",
    "h1 = boxplot(bebes_sains);\n",
    "title( ... )\n",
    "figure(7)\n",
    "h2=... ;\n",
    "title(...)\n",
    "save('donnees_bebe.mat','data');\n"
   ]
  },
  {
   "cell_type": "markdown",
   "metadata": {},
   "source": [
    "En espérant que ce format puisse vous convenir et que vous puissiez progresser tranquillement ! N'oubliez pas d'exporter votre compte-rendu en html et de les envoyer à kimi-piedad.owashi@univ-rennes1.fr pour l'évaluation de votre travail. N'hésitez pas à faire remonter les éventuels problèmes, les questions ou des oublis en envoyant un mail à l'adresse suivante : pierreantchantal@gmail.com. Pour participer à la création, consultez le chapitre 0.3."
   ]
  }
 ],
 "metadata": {
  "kernelspec": {
   "display_name": "Octave",
   "language": "octave",
   "name": "octave"
  },
  "language_info": {
   "file_extension": ".m",
   "help_links": [
    {
     "text": "GNU Octave",
     "url": "https://www.gnu.org/software/octave/support.html"
    },
    {
     "text": "Octave Kernel",
     "url": "https://github.com/Calysto/octave_kernel"
    },
    {
     "text": "MetaKernel Magics",
     "url": "https://github.com/calysto/metakernel/blob/master/metakernel/magics/README.md"
    }
   ],
   "mimetype": "text/x-octave",
   "name": "octave",
   "version": "4.4.1"
  }
 },
 "nbformat": 4,
 "nbformat_minor": 2
}
